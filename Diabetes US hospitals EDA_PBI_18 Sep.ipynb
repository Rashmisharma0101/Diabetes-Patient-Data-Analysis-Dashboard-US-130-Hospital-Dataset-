{
 "cells": [
  {
   "cell_type": "code",
   "execution_count": 1,
   "id": "fd0368ac-db47-4b43-b178-7bb1fe4b4306",
   "metadata": {},
   "outputs": [],
   "source": [
    "import pandas as pd\n",
    "import numpy as np\n",
    "import matplotlib.pyplot as plt\n",
    "import seaborn as sns"
   ]
  },
  {
   "cell_type": "code",
   "execution_count": 2,
   "id": "14c3c865-a49e-4fcb-8eff-ddc59e896a55",
   "metadata": {},
   "outputs": [],
   "source": [
    "df = pd.read_csv(r'C:\\Users\\rasha\\OneDrive\\Desktop\\Job 2026\\PowerBI\\Diabetes 130 US hospitals\\diabetic_data.csv')"
   ]
  },
  {
   "cell_type": "code",
   "execution_count": 3,
   "id": "8ed97345-cc14-4f55-9a48-a4bf8152146b",
   "metadata": {},
   "outputs": [
    {
     "data": {
      "text/plain": [
       "Index(['encounter_id', 'patient_nbr', 'race', 'gender', 'age', 'weight',\n",
       "       'admission_type_id', 'discharge_disposition_id', 'admission_source_id',\n",
       "       'time_in_hospital', 'payer_code', 'medical_specialty',\n",
       "       'num_lab_procedures', 'num_procedures', 'num_medications',\n",
       "       'number_outpatient', 'number_emergency', 'number_inpatient', 'diag_1',\n",
       "       'diag_2', 'diag_3', 'number_diagnoses', 'max_glu_serum', 'A1Cresult',\n",
       "       'metformin', 'repaglinide', 'nateglinide', 'chlorpropamide',\n",
       "       'glimepiride', 'acetohexamide', 'glipizide', 'glyburide', 'tolbutamide',\n",
       "       'pioglitazone', 'rosiglitazone', 'acarbose', 'miglitol', 'troglitazone',\n",
       "       'tolazamide', 'examide', 'citoglipton', 'insulin',\n",
       "       'glyburide-metformin', 'glipizide-metformin',\n",
       "       'glimepiride-pioglitazone', 'metformin-rosiglitazone',\n",
       "       'metformin-pioglitazone', 'change', 'diabetesMed', 'readmitted'],\n",
       "      dtype='object')"
      ]
     },
     "execution_count": 3,
     "metadata": {},
     "output_type": "execute_result"
    }
   ],
   "source": [
    "df.columns"
   ]
  },
  {
   "cell_type": "code",
   "execution_count": 4,
   "id": "914f6e93-1220-4f25-abc9-52c2a682dc6f",
   "metadata": {},
   "outputs": [],
   "source": [
    "df['max_glu_serum'] = df['max_glu_serum'].replace('None', 'Not tested').fillna('Not tested')\n",
    "df['A1Cresult'] = df['A1Cresult'].replace('None', 'Not tested').fillna('Not tested')"
   ]
  },
  {
   "cell_type": "code",
   "execution_count": 5,
   "id": "a66609af-20a7-4883-a63a-a9a0493fa259",
   "metadata": {
    "collapsed": true,
    "jupyter": {
     "outputs_hidden": true
    },
    "scrolled": true
   },
   "outputs": [
    {
     "data": {
      "text/plain": [
       "encounter_id                0\n",
       "patient_nbr                 0\n",
       "race                        0\n",
       "gender                      0\n",
       "age                         0\n",
       "weight                      0\n",
       "admission_type_id           0\n",
       "discharge_disposition_id    0\n",
       "admission_source_id         0\n",
       "time_in_hospital            0\n",
       "payer_code                  0\n",
       "medical_specialty           0\n",
       "num_lab_procedures          0\n",
       "num_procedures              0\n",
       "num_medications             0\n",
       "number_outpatient           0\n",
       "number_emergency            0\n",
       "number_inpatient            0\n",
       "diag_1                      0\n",
       "diag_2                      0\n",
       "diag_3                      0\n",
       "number_diagnoses            0\n",
       "max_glu_serum               0\n",
       "A1Cresult                   0\n",
       "metformin                   0\n",
       "repaglinide                 0\n",
       "nateglinide                 0\n",
       "chlorpropamide              0\n",
       "glimepiride                 0\n",
       "acetohexamide               0\n",
       "glipizide                   0\n",
       "glyburide                   0\n",
       "tolbutamide                 0\n",
       "pioglitazone                0\n",
       "rosiglitazone               0\n",
       "acarbose                    0\n",
       "miglitol                    0\n",
       "troglitazone                0\n",
       "tolazamide                  0\n",
       "examide                     0\n",
       "citoglipton                 0\n",
       "insulin                     0\n",
       "glyburide-metformin         0\n",
       "glipizide-metformin         0\n",
       "glimepiride-pioglitazone    0\n",
       "metformin-rosiglitazone     0\n",
       "metformin-pioglitazone      0\n",
       "change                      0\n",
       "diabetesMed                 0\n",
       "readmitted                  0\n",
       "dtype: int64"
      ]
     },
     "execution_count": 5,
     "metadata": {},
     "output_type": "execute_result"
    }
   ],
   "source": [
    "df.isna().sum()"
   ]
  },
  {
   "cell_type": "code",
   "execution_count": 6,
   "id": "6f377c90-0d74-4205-96f8-c4928ea8bd77",
   "metadata": {},
   "outputs": [],
   "source": [
    "df = df.replace('?', 'Not tested')"
   ]
  },
  {
   "cell_type": "code",
   "execution_count": 7,
   "id": "9b89e25f-e75c-498e-9010-1916d02eb2fc",
   "metadata": {},
   "outputs": [],
   "source": [
    "df['medical_specialty'] = df['medical_specialty'].replace('Not tested', \"Not recorded\")"
   ]
  },
  {
   "cell_type": "code",
   "execution_count": 8,
   "id": "c9e4ceee-18ca-441a-bcc3-72654f5b510d",
   "metadata": {
    "collapsed": true,
    "jupyter": {
     "outputs_hidden": true
    }
   },
   "outputs": [
    {
     "name": "stdout",
     "output_type": "stream",
     "text": [
      "Value counts for encounter_id is \n",
      " encounter_id\n",
      "2278392      1\n",
      "149190       1\n",
      "64410        1\n",
      "500364       1\n",
      "16680        1\n",
      "            ..\n",
      "443847548    1\n",
      "443847782    1\n",
      "443854148    1\n",
      "443857166    1\n",
      "443867222    1\n",
      "Name: count, Length: 101766, dtype: int64\n",
      "xxxxxxxxxxxxxxxxxxxxxxxxxxxxxxxxxxxxxxxxxxxxxxxxxxxxxxxxxxxxxxxxxxxxxxxxxxxxxxxxxxxxxxxxxxxxxxxxxxxx\n",
      "Value counts for patient_nbr is \n",
      " patient_nbr\n",
      "88785891     40\n",
      "43140906     28\n",
      "88227540     23\n",
      "23199021     23\n",
      "1660293      23\n",
      "             ..\n",
      "3327282       1\n",
      "98427861      1\n",
      "92519352      1\n",
      "101002446     1\n",
      "104672268     1\n",
      "Name: count, Length: 71518, dtype: int64\n",
      "xxxxxxxxxxxxxxxxxxxxxxxxxxxxxxxxxxxxxxxxxxxxxxxxxxxxxxxxxxxxxxxxxxxxxxxxxxxxxxxxxxxxxxxxxxxxxxxxxxxx\n",
      "Value counts for race is \n",
      " race\n",
      "Caucasian          76099\n",
      "AfricanAmerican    19210\n",
      "Not tested          2273\n",
      "Hispanic            2037\n",
      "Other               1506\n",
      "Asian                641\n",
      "Name: count, dtype: int64\n",
      "xxxxxxxxxxxxxxxxxxxxxxxxxxxxxxxxxxxxxxxxxxxxxxxxxxxxxxxxxxxxxxxxxxxxxxxxxxxxxxxxxxxxxxxxxxxxxxxxxxxx\n",
      "Value counts for gender is \n",
      " gender\n",
      "Female             54708\n",
      "Male               47055\n",
      "Unknown/Invalid        3\n",
      "Name: count, dtype: int64\n",
      "xxxxxxxxxxxxxxxxxxxxxxxxxxxxxxxxxxxxxxxxxxxxxxxxxxxxxxxxxxxxxxxxxxxxxxxxxxxxxxxxxxxxxxxxxxxxxxxxxxxx\n",
      "Value counts for age is \n",
      " age\n",
      "[70-80)     26068\n",
      "[60-70)     22483\n",
      "[50-60)     17256\n",
      "[80-90)     17197\n",
      "[40-50)      9685\n",
      "[30-40)      3775\n",
      "[90-100)     2793\n",
      "[20-30)      1657\n",
      "[10-20)       691\n",
      "[0-10)        161\n",
      "Name: count, dtype: int64\n",
      "xxxxxxxxxxxxxxxxxxxxxxxxxxxxxxxxxxxxxxxxxxxxxxxxxxxxxxxxxxxxxxxxxxxxxxxxxxxxxxxxxxxxxxxxxxxxxxxxxxxx\n",
      "Value counts for weight is \n",
      " weight\n",
      "Not tested    98569\n",
      "[75-100)       1336\n",
      "[50-75)         897\n",
      "[100-125)       625\n",
      "[125-150)       145\n",
      "[25-50)          97\n",
      "[0-25)           48\n",
      "[150-175)        35\n",
      "[175-200)        11\n",
      ">200              3\n",
      "Name: count, dtype: int64\n",
      "xxxxxxxxxxxxxxxxxxxxxxxxxxxxxxxxxxxxxxxxxxxxxxxxxxxxxxxxxxxxxxxxxxxxxxxxxxxxxxxxxxxxxxxxxxxxxxxxxxxx\n",
      "Value counts for admission_type_id is \n",
      " admission_type_id\n",
      "1    53990\n",
      "3    18869\n",
      "2    18480\n",
      "6     5291\n",
      "5     4785\n",
      "8      320\n",
      "7       21\n",
      "4       10\n",
      "Name: count, dtype: int64\n",
      "xxxxxxxxxxxxxxxxxxxxxxxxxxxxxxxxxxxxxxxxxxxxxxxxxxxxxxxxxxxxxxxxxxxxxxxxxxxxxxxxxxxxxxxxxxxxxxxxxxxx\n",
      "Value counts for discharge_disposition_id is \n",
      " discharge_disposition_id\n",
      "1     60234\n",
      "3     13954\n",
      "6     12902\n",
      "18     3691\n",
      "2      2128\n",
      "22     1993\n",
      "11     1642\n",
      "5      1184\n",
      "25      989\n",
      "4       815\n",
      "7       623\n",
      "23      412\n",
      "13      399\n",
      "14      372\n",
      "28      139\n",
      "8       108\n",
      "15       63\n",
      "24       48\n",
      "9        21\n",
      "17       14\n",
      "16       11\n",
      "19        8\n",
      "10        6\n",
      "27        5\n",
      "12        3\n",
      "20        2\n",
      "Name: count, dtype: int64\n",
      "xxxxxxxxxxxxxxxxxxxxxxxxxxxxxxxxxxxxxxxxxxxxxxxxxxxxxxxxxxxxxxxxxxxxxxxxxxxxxxxxxxxxxxxxxxxxxxxxxxxx\n",
      "Value counts for admission_source_id is \n",
      " admission_source_id\n",
      "7     57494\n",
      "1     29565\n",
      "17     6781\n",
      "4      3187\n",
      "6      2264\n",
      "2      1104\n",
      "5       855\n",
      "3       187\n",
      "20      161\n",
      "9       125\n",
      "8        16\n",
      "22       12\n",
      "10        8\n",
      "14        2\n",
      "11        2\n",
      "25        2\n",
      "13        1\n",
      "Name: count, dtype: int64\n",
      "xxxxxxxxxxxxxxxxxxxxxxxxxxxxxxxxxxxxxxxxxxxxxxxxxxxxxxxxxxxxxxxxxxxxxxxxxxxxxxxxxxxxxxxxxxxxxxxxxxxx\n",
      "Value counts for time_in_hospital is \n",
      " time_in_hospital\n",
      "3     17756\n",
      "2     17224\n",
      "1     14208\n",
      "4     13924\n",
      "5      9966\n",
      "6      7539\n",
      "7      5859\n",
      "8      4391\n",
      "9      3002\n",
      "10     2342\n",
      "11     1855\n",
      "12     1448\n",
      "13     1210\n",
      "14     1042\n",
      "Name: count, dtype: int64\n",
      "xxxxxxxxxxxxxxxxxxxxxxxxxxxxxxxxxxxxxxxxxxxxxxxxxxxxxxxxxxxxxxxxxxxxxxxxxxxxxxxxxxxxxxxxxxxxxxxxxxxx\n",
      "Value counts for payer_code is \n",
      " payer_code\n",
      "Not tested    40256\n",
      "MC            32439\n",
      "HM             6274\n",
      "SP             5007\n",
      "BC             4655\n",
      "MD             3532\n",
      "CP             2533\n",
      "UN             2448\n",
      "CM             1937\n",
      "OG             1033\n",
      "PO              592\n",
      "DM              549\n",
      "CH              146\n",
      "WC              135\n",
      "OT               95\n",
      "MP               79\n",
      "SI               55\n",
      "FR                1\n",
      "Name: count, dtype: int64\n",
      "xxxxxxxxxxxxxxxxxxxxxxxxxxxxxxxxxxxxxxxxxxxxxxxxxxxxxxxxxxxxxxxxxxxxxxxxxxxxxxxxxxxxxxxxxxxxxxxxxxxx\n",
      "Value counts for medical_specialty is \n",
      " medical_specialty\n",
      "Not recorded              49949\n",
      "InternalMedicine          14635\n",
      "Emergency/Trauma           7565\n",
      "Family/GeneralPractice     7440\n",
      "Cardiology                 5352\n",
      "                          ...  \n",
      "Proctology                    1\n",
      "Speech                        1\n",
      "SportsMedicine                1\n",
      "Perinatology                  1\n",
      "Neurophysiology               1\n",
      "Name: count, Length: 73, dtype: int64\n",
      "xxxxxxxxxxxxxxxxxxxxxxxxxxxxxxxxxxxxxxxxxxxxxxxxxxxxxxxxxxxxxxxxxxxxxxxxxxxxxxxxxxxxxxxxxxxxxxxxxxxx\n",
      "Value counts for num_lab_procedures is \n",
      " num_lab_procedures\n",
      "1      3208\n",
      "43     2804\n",
      "44     2496\n",
      "45     2376\n",
      "38     2213\n",
      "       ... \n",
      "120       1\n",
      "132       1\n",
      "121       1\n",
      "126       1\n",
      "118       1\n",
      "Name: count, Length: 118, dtype: int64\n",
      "xxxxxxxxxxxxxxxxxxxxxxxxxxxxxxxxxxxxxxxxxxxxxxxxxxxxxxxxxxxxxxxxxxxxxxxxxxxxxxxxxxxxxxxxxxxxxxxxxxxx\n",
      "Value counts for num_procedures is \n",
      " num_procedures\n",
      "0    46652\n",
      "1    20742\n",
      "2    12717\n",
      "3     9443\n",
      "6     4954\n",
      "4     4180\n",
      "5     3078\n",
      "Name: count, dtype: int64\n",
      "xxxxxxxxxxxxxxxxxxxxxxxxxxxxxxxxxxxxxxxxxxxxxxxxxxxxxxxxxxxxxxxxxxxxxxxxxxxxxxxxxxxxxxxxxxxxxxxxxxxx\n",
      "Value counts for num_medications is \n",
      " num_medications\n",
      "13    6086\n",
      "12    6004\n",
      "11    5795\n",
      "15    5792\n",
      "14    5707\n",
      "      ... \n",
      "70       2\n",
      "75       2\n",
      "81       1\n",
      "79       1\n",
      "74       1\n",
      "Name: count, Length: 75, dtype: int64\n",
      "xxxxxxxxxxxxxxxxxxxxxxxxxxxxxxxxxxxxxxxxxxxxxxxxxxxxxxxxxxxxxxxxxxxxxxxxxxxxxxxxxxxxxxxxxxxxxxxxxxxx\n",
      "Value counts for number_outpatient is \n",
      " number_outpatient\n",
      "0     85027\n",
      "1      8547\n",
      "2      3594\n",
      "3      2042\n",
      "4      1099\n",
      "5       533\n",
      "6       303\n",
      "7       155\n",
      "8        98\n",
      "9        83\n",
      "10       57\n",
      "11       42\n",
      "13       31\n",
      "12       30\n",
      "14       28\n",
      "15       20\n",
      "16       15\n",
      "17        8\n",
      "20        7\n",
      "21        7\n",
      "18        5\n",
      "22        5\n",
      "19        3\n",
      "24        3\n",
      "27        3\n",
      "35        2\n",
      "29        2\n",
      "36        2\n",
      "25        2\n",
      "33        2\n",
      "26        2\n",
      "23        2\n",
      "34        1\n",
      "42        1\n",
      "39        1\n",
      "28        1\n",
      "37        1\n",
      "38        1\n",
      "40        1\n",
      "Name: count, dtype: int64\n",
      "xxxxxxxxxxxxxxxxxxxxxxxxxxxxxxxxxxxxxxxxxxxxxxxxxxxxxxxxxxxxxxxxxxxxxxxxxxxxxxxxxxxxxxxxxxxxxxxxxxxx\n",
      "Value counts for number_emergency is \n",
      " number_emergency\n",
      "0     90383\n",
      "1      7677\n",
      "2      2042\n",
      "3       725\n",
      "4       374\n",
      "5       192\n",
      "6        94\n",
      "7        73\n",
      "8        50\n",
      "10       34\n",
      "9        33\n",
      "11       23\n",
      "13       12\n",
      "12       10\n",
      "22        6\n",
      "18        5\n",
      "16        5\n",
      "20        4\n",
      "19        4\n",
      "15        3\n",
      "14        3\n",
      "21        2\n",
      "25        2\n",
      "42        1\n",
      "28        1\n",
      "46        1\n",
      "76        1\n",
      "37        1\n",
      "64        1\n",
      "63        1\n",
      "54        1\n",
      "24        1\n",
      "29        1\n",
      "Name: count, dtype: int64\n",
      "xxxxxxxxxxxxxxxxxxxxxxxxxxxxxxxxxxxxxxxxxxxxxxxxxxxxxxxxxxxxxxxxxxxxxxxxxxxxxxxxxxxxxxxxxxxxxxxxxxxx\n",
      "Value counts for number_inpatient is \n",
      " number_inpatient\n",
      "0     67630\n",
      "1     19521\n",
      "2      7566\n",
      "3      3411\n",
      "4      1622\n",
      "5       812\n",
      "6       480\n",
      "7       268\n",
      "8       151\n",
      "9       111\n",
      "10       61\n",
      "11       49\n",
      "12       34\n",
      "13       20\n",
      "14       10\n",
      "15        9\n",
      "16        6\n",
      "19        2\n",
      "17        1\n",
      "21        1\n",
      "18        1\n",
      "Name: count, dtype: int64\n",
      "xxxxxxxxxxxxxxxxxxxxxxxxxxxxxxxxxxxxxxxxxxxxxxxxxxxxxxxxxxxxxxxxxxxxxxxxxxxxxxxxxxxxxxxxxxxxxxxxxxxx\n",
      "Value counts for diag_1 is \n",
      " diag_1\n",
      "428    6862\n",
      "414    6581\n",
      "786    4016\n",
      "410    3614\n",
      "486    3508\n",
      "       ... \n",
      "833       1\n",
      "391       1\n",
      "690       1\n",
      "10        1\n",
      "V51       1\n",
      "Name: count, Length: 717, dtype: int64\n",
      "xxxxxxxxxxxxxxxxxxxxxxxxxxxxxxxxxxxxxxxxxxxxxxxxxxxxxxxxxxxxxxxxxxxxxxxxxxxxxxxxxxxxxxxxxxxxxxxxxxxx\n",
      "Value counts for diag_2 is \n",
      " diag_2\n",
      "276    6752\n",
      "428    6662\n",
      "250    6071\n",
      "427    5036\n",
      "401    3736\n",
      "       ... \n",
      "123       1\n",
      "884       1\n",
      "V60       1\n",
      "843       1\n",
      "927       1\n",
      "Name: count, Length: 749, dtype: int64\n",
      "xxxxxxxxxxxxxxxxxxxxxxxxxxxxxxxxxxxxxxxxxxxxxxxxxxxxxxxxxxxxxxxxxxxxxxxxxxxxxxxxxxxxxxxxxxxxxxxxxxxx\n",
      "Value counts for diag_3 is \n",
      " diag_3\n",
      "250    11555\n",
      "401     8289\n",
      "276     5175\n",
      "428     4577\n",
      "427     3955\n",
      "       ...  \n",
      "14         1\n",
      "750        1\n",
      "370        1\n",
      "671        1\n",
      "971        1\n",
      "Name: count, Length: 790, dtype: int64\n",
      "xxxxxxxxxxxxxxxxxxxxxxxxxxxxxxxxxxxxxxxxxxxxxxxxxxxxxxxxxxxxxxxxxxxxxxxxxxxxxxxxxxxxxxxxxxxxxxxxxxxx\n",
      "Value counts for number_diagnoses is \n",
      " number_diagnoses\n",
      "9     49474\n",
      "5     11393\n",
      "8     10616\n",
      "7     10393\n",
      "6     10161\n",
      "4      5537\n",
      "3      2835\n",
      "2      1023\n",
      "1       219\n",
      "16       45\n",
      "10       17\n",
      "13       16\n",
      "11       11\n",
      "15       10\n",
      "12        9\n",
      "14        7\n",
      "Name: count, dtype: int64\n",
      "xxxxxxxxxxxxxxxxxxxxxxxxxxxxxxxxxxxxxxxxxxxxxxxxxxxxxxxxxxxxxxxxxxxxxxxxxxxxxxxxxxxxxxxxxxxxxxxxxxxx\n",
      "Value counts for max_glu_serum is \n",
      " max_glu_serum\n",
      "Not tested    96420\n",
      "Norm           2597\n",
      ">200           1485\n",
      ">300           1264\n",
      "Name: count, dtype: int64\n",
      "xxxxxxxxxxxxxxxxxxxxxxxxxxxxxxxxxxxxxxxxxxxxxxxxxxxxxxxxxxxxxxxxxxxxxxxxxxxxxxxxxxxxxxxxxxxxxxxxxxxx\n",
      "Value counts for A1Cresult is \n",
      " A1Cresult\n",
      "Not tested    84748\n",
      ">8             8216\n",
      "Norm           4990\n",
      ">7             3812\n",
      "Name: count, dtype: int64\n",
      "xxxxxxxxxxxxxxxxxxxxxxxxxxxxxxxxxxxxxxxxxxxxxxxxxxxxxxxxxxxxxxxxxxxxxxxxxxxxxxxxxxxxxxxxxxxxxxxxxxxx\n",
      "Value counts for metformin is \n",
      " metformin\n",
      "No        81778\n",
      "Steady    18346\n",
      "Up         1067\n",
      "Down        575\n",
      "Name: count, dtype: int64\n",
      "xxxxxxxxxxxxxxxxxxxxxxxxxxxxxxxxxxxxxxxxxxxxxxxxxxxxxxxxxxxxxxxxxxxxxxxxxxxxxxxxxxxxxxxxxxxxxxxxxxxx\n",
      "Value counts for repaglinide is \n",
      " repaglinide\n",
      "No        100227\n",
      "Steady      1384\n",
      "Up           110\n",
      "Down          45\n",
      "Name: count, dtype: int64\n",
      "xxxxxxxxxxxxxxxxxxxxxxxxxxxxxxxxxxxxxxxxxxxxxxxxxxxxxxxxxxxxxxxxxxxxxxxxxxxxxxxxxxxxxxxxxxxxxxxxxxxx\n",
      "Value counts for nateglinide is \n",
      " nateglinide\n",
      "No        101063\n",
      "Steady       668\n",
      "Up            24\n",
      "Down          11\n",
      "Name: count, dtype: int64\n",
      "xxxxxxxxxxxxxxxxxxxxxxxxxxxxxxxxxxxxxxxxxxxxxxxxxxxxxxxxxxxxxxxxxxxxxxxxxxxxxxxxxxxxxxxxxxxxxxxxxxxx\n",
      "Value counts for chlorpropamide is \n",
      " chlorpropamide\n",
      "No        101680\n",
      "Steady        79\n",
      "Up             6\n",
      "Down           1\n",
      "Name: count, dtype: int64\n",
      "xxxxxxxxxxxxxxxxxxxxxxxxxxxxxxxxxxxxxxxxxxxxxxxxxxxxxxxxxxxxxxxxxxxxxxxxxxxxxxxxxxxxxxxxxxxxxxxxxxxx\n",
      "Value counts for glimepiride is \n",
      " glimepiride\n",
      "No        96575\n",
      "Steady     4670\n",
      "Up          327\n",
      "Down        194\n",
      "Name: count, dtype: int64\n",
      "xxxxxxxxxxxxxxxxxxxxxxxxxxxxxxxxxxxxxxxxxxxxxxxxxxxxxxxxxxxxxxxxxxxxxxxxxxxxxxxxxxxxxxxxxxxxxxxxxxxx\n",
      "Value counts for acetohexamide is \n",
      " acetohexamide\n",
      "No        101765\n",
      "Steady         1\n",
      "Name: count, dtype: int64\n",
      "xxxxxxxxxxxxxxxxxxxxxxxxxxxxxxxxxxxxxxxxxxxxxxxxxxxxxxxxxxxxxxxxxxxxxxxxxxxxxxxxxxxxxxxxxxxxxxxxxxxx\n",
      "Value counts for glipizide is \n",
      " glipizide\n",
      "No        89080\n",
      "Steady    11356\n",
      "Up          770\n",
      "Down        560\n",
      "Name: count, dtype: int64\n",
      "xxxxxxxxxxxxxxxxxxxxxxxxxxxxxxxxxxxxxxxxxxxxxxxxxxxxxxxxxxxxxxxxxxxxxxxxxxxxxxxxxxxxxxxxxxxxxxxxxxxx\n",
      "Value counts for glyburide is \n",
      " glyburide\n",
      "No        91116\n",
      "Steady     9274\n",
      "Up          812\n",
      "Down        564\n",
      "Name: count, dtype: int64\n",
      "xxxxxxxxxxxxxxxxxxxxxxxxxxxxxxxxxxxxxxxxxxxxxxxxxxxxxxxxxxxxxxxxxxxxxxxxxxxxxxxxxxxxxxxxxxxxxxxxxxxx\n",
      "Value counts for tolbutamide is \n",
      " tolbutamide\n",
      "No        101743\n",
      "Steady        23\n",
      "Name: count, dtype: int64\n",
      "xxxxxxxxxxxxxxxxxxxxxxxxxxxxxxxxxxxxxxxxxxxxxxxxxxxxxxxxxxxxxxxxxxxxxxxxxxxxxxxxxxxxxxxxxxxxxxxxxxxx\n",
      "Value counts for pioglitazone is \n",
      " pioglitazone\n",
      "No        94438\n",
      "Steady     6976\n",
      "Up          234\n",
      "Down        118\n",
      "Name: count, dtype: int64\n",
      "xxxxxxxxxxxxxxxxxxxxxxxxxxxxxxxxxxxxxxxxxxxxxxxxxxxxxxxxxxxxxxxxxxxxxxxxxxxxxxxxxxxxxxxxxxxxxxxxxxxx\n",
      "Value counts for rosiglitazone is \n",
      " rosiglitazone\n",
      "No        95401\n",
      "Steady     6100\n",
      "Up          178\n",
      "Down         87\n",
      "Name: count, dtype: int64\n",
      "xxxxxxxxxxxxxxxxxxxxxxxxxxxxxxxxxxxxxxxxxxxxxxxxxxxxxxxxxxxxxxxxxxxxxxxxxxxxxxxxxxxxxxxxxxxxxxxxxxxx\n",
      "Value counts for acarbose is \n",
      " acarbose\n",
      "No        101458\n",
      "Steady       295\n",
      "Up            10\n",
      "Down           3\n",
      "Name: count, dtype: int64\n",
      "xxxxxxxxxxxxxxxxxxxxxxxxxxxxxxxxxxxxxxxxxxxxxxxxxxxxxxxxxxxxxxxxxxxxxxxxxxxxxxxxxxxxxxxxxxxxxxxxxxxx\n",
      "Value counts for miglitol is \n",
      " miglitol\n",
      "No        101728\n",
      "Steady        31\n",
      "Down           5\n",
      "Up             2\n",
      "Name: count, dtype: int64\n",
      "xxxxxxxxxxxxxxxxxxxxxxxxxxxxxxxxxxxxxxxxxxxxxxxxxxxxxxxxxxxxxxxxxxxxxxxxxxxxxxxxxxxxxxxxxxxxxxxxxxxx\n",
      "Value counts for troglitazone is \n",
      " troglitazone\n",
      "No        101763\n",
      "Steady         3\n",
      "Name: count, dtype: int64\n",
      "xxxxxxxxxxxxxxxxxxxxxxxxxxxxxxxxxxxxxxxxxxxxxxxxxxxxxxxxxxxxxxxxxxxxxxxxxxxxxxxxxxxxxxxxxxxxxxxxxxxx\n",
      "Value counts for tolazamide is \n",
      " tolazamide\n",
      "No        101727\n",
      "Steady        38\n",
      "Up             1\n",
      "Name: count, dtype: int64\n",
      "xxxxxxxxxxxxxxxxxxxxxxxxxxxxxxxxxxxxxxxxxxxxxxxxxxxxxxxxxxxxxxxxxxxxxxxxxxxxxxxxxxxxxxxxxxxxxxxxxxxx\n",
      "Value counts for examide is \n",
      " examide\n",
      "No    101766\n",
      "Name: count, dtype: int64\n",
      "xxxxxxxxxxxxxxxxxxxxxxxxxxxxxxxxxxxxxxxxxxxxxxxxxxxxxxxxxxxxxxxxxxxxxxxxxxxxxxxxxxxxxxxxxxxxxxxxxxxx\n",
      "Value counts for citoglipton is \n",
      " citoglipton\n",
      "No    101766\n",
      "Name: count, dtype: int64\n",
      "xxxxxxxxxxxxxxxxxxxxxxxxxxxxxxxxxxxxxxxxxxxxxxxxxxxxxxxxxxxxxxxxxxxxxxxxxxxxxxxxxxxxxxxxxxxxxxxxxxxx\n",
      "Value counts for insulin is \n",
      " insulin\n",
      "No        47383\n",
      "Steady    30849\n",
      "Down      12218\n",
      "Up        11316\n",
      "Name: count, dtype: int64\n",
      "xxxxxxxxxxxxxxxxxxxxxxxxxxxxxxxxxxxxxxxxxxxxxxxxxxxxxxxxxxxxxxxxxxxxxxxxxxxxxxxxxxxxxxxxxxxxxxxxxxxx\n",
      "Value counts for glyburide-metformin is \n",
      " glyburide-metformin\n",
      "No        101060\n",
      "Steady       692\n",
      "Up             8\n",
      "Down           6\n",
      "Name: count, dtype: int64\n",
      "xxxxxxxxxxxxxxxxxxxxxxxxxxxxxxxxxxxxxxxxxxxxxxxxxxxxxxxxxxxxxxxxxxxxxxxxxxxxxxxxxxxxxxxxxxxxxxxxxxxx\n",
      "Value counts for glipizide-metformin is \n",
      " glipizide-metformin\n",
      "No        101753\n",
      "Steady        13\n",
      "Name: count, dtype: int64\n",
      "xxxxxxxxxxxxxxxxxxxxxxxxxxxxxxxxxxxxxxxxxxxxxxxxxxxxxxxxxxxxxxxxxxxxxxxxxxxxxxxxxxxxxxxxxxxxxxxxxxxx\n",
      "Value counts for glimepiride-pioglitazone is \n",
      " glimepiride-pioglitazone\n",
      "No        101765\n",
      "Steady         1\n",
      "Name: count, dtype: int64\n",
      "xxxxxxxxxxxxxxxxxxxxxxxxxxxxxxxxxxxxxxxxxxxxxxxxxxxxxxxxxxxxxxxxxxxxxxxxxxxxxxxxxxxxxxxxxxxxxxxxxxxx\n",
      "Value counts for metformin-rosiglitazone is \n",
      " metformin-rosiglitazone\n",
      "No        101764\n",
      "Steady         2\n",
      "Name: count, dtype: int64\n",
      "xxxxxxxxxxxxxxxxxxxxxxxxxxxxxxxxxxxxxxxxxxxxxxxxxxxxxxxxxxxxxxxxxxxxxxxxxxxxxxxxxxxxxxxxxxxxxxxxxxxx\n",
      "Value counts for metformin-pioglitazone is \n",
      " metformin-pioglitazone\n",
      "No        101765\n",
      "Steady         1\n",
      "Name: count, dtype: int64\n",
      "xxxxxxxxxxxxxxxxxxxxxxxxxxxxxxxxxxxxxxxxxxxxxxxxxxxxxxxxxxxxxxxxxxxxxxxxxxxxxxxxxxxxxxxxxxxxxxxxxxxx\n",
      "Value counts for change is \n",
      " change\n",
      "No    54755\n",
      "Ch    47011\n",
      "Name: count, dtype: int64\n",
      "xxxxxxxxxxxxxxxxxxxxxxxxxxxxxxxxxxxxxxxxxxxxxxxxxxxxxxxxxxxxxxxxxxxxxxxxxxxxxxxxxxxxxxxxxxxxxxxxxxxx\n",
      "Value counts for diabetesMed is \n",
      " diabetesMed\n",
      "Yes    78363\n",
      "No     23403\n",
      "Name: count, dtype: int64\n",
      "xxxxxxxxxxxxxxxxxxxxxxxxxxxxxxxxxxxxxxxxxxxxxxxxxxxxxxxxxxxxxxxxxxxxxxxxxxxxxxxxxxxxxxxxxxxxxxxxxxxx\n",
      "Value counts for readmitted is \n",
      " readmitted\n",
      "NO     54864\n",
      ">30    35545\n",
      "<30    11357\n",
      "Name: count, dtype: int64\n",
      "xxxxxxxxxxxxxxxxxxxxxxxxxxxxxxxxxxxxxxxxxxxxxxxxxxxxxxxxxxxxxxxxxxxxxxxxxxxxxxxxxxxxxxxxxxxxxxxxxxxx\n"
     ]
    }
   ],
   "source": [
    "for col in df.columns:\n",
    "    vc = df[col].value_counts()\n",
    "    print(f\"Value counts for {col} is \\n\", vc)\n",
    "    print('x'*100)"
   ]
  },
  {
   "cell_type": "code",
   "execution_count": 9,
   "id": "91140c3c-4920-402f-b059-4bb749533bb1",
   "metadata": {},
   "outputs": [],
   "source": [
    "# EDA"
   ]
  },
  {
   "cell_type": "code",
   "execution_count": 10,
   "id": "e1198349-a6a0-4f9f-853f-5543d59d62ea",
   "metadata": {},
   "outputs": [],
   "source": [
    "# Paient Demographics"
   ]
  },
  {
   "cell_type": "code",
   "execution_count": 11,
   "id": "3ce303e1-3e19-4659-824b-30d548e04977",
   "metadata": {},
   "outputs": [
    {
     "data": {
      "image/png": "[encoded data removed]",
      "text/plain": [
       "<Figure size 640x480 with 1 Axes>"
      ]
     },
     "metadata": {},
     "output_type": "display_data"
    }
   ],
   "source": [
    "# Question 1- What is the distribution of race, gender, and age groups among admitted patients?\n",
    "\n",
    "sns.histplot(df['race'])\n",
    "plt.xticks(rotation = 45)\n",
    "plt.show()"
   ]
  },
  {
   "cell_type": "code",
   "execution_count": 12,
   "id": "b8bec48f-1b45-491d-b3fb-82631217e799",
   "metadata": {},
   "outputs": [
    {
     "data": {
      "image/png": "[encoded data removed]",
      "text/plain": [
       "<Figure size 640x480 with 1 Axes>"
      ]
     },
     "metadata": {},
     "output_type": "display_data"
    }
   ],
   "source": [
    "sns.histplot(df['gender'])\n",
    "plt.xticks(rotation = 45)\n",
    "plt.show()"
   ]
  },
  {
   "cell_type": "code",
   "execution_count": 13,
   "id": "3c18617e-4b23-4b02-8569-89d56b078f79",
   "metadata": {},
   "outputs": [
    {
     "data": {
      "image/png": "[encoded data removed]",
      "text/plain": [
       "<Figure size 640x480 with 1 Axes>"
      ]
     },
     "metadata": {},
     "output_type": "display_data"
    }
   ],
   "source": [
    "sns.histplot(df['age'])\n",
    "plt.xticks(rotation = 45)\n",
    "plt.show()"
   ]
  },
  {
   "cell_type": "code",
   "execution_count": 14,
   "id": "bffe1cb3-5c11-4982-b459-a48a377e58a3",
   "metadata": {},
   "outputs": [],
   "source": [
    "# Race is right skewed\n",
    "# Gender shows uniform distribution\n",
    "# age is close to normal distribution with bit left skew"
   ]
  },
  {
   "cell_type": "code",
   "execution_count": 15,
   "id": "9f2b5047-c4ef-439f-a48d-7208c6307bdd",
   "metadata": {},
   "outputs": [],
   "source": [
    "# Question 2 - Are certain age groups more likely to be admitted?"
   ]
  },
  {
   "cell_type": "code",
   "execution_count": 16,
   "id": "3fc8da7e-a1e1-4c6e-b59c-8e68bee6904d",
   "metadata": {},
   "outputs": [],
   "source": [
    "df_readmission_filtered = df[df['readmitted']!='NO']"
   ]
  },
  {
   "cell_type": "code",
   "execution_count": 17,
   "id": "6d138f5d-8661-437d-8931-fb66eeafc1ab",
   "metadata": {},
   "outputs": [
    {
     "data": {
      "text/plain": [
       "age\n",
       "[70-80)     12544\n",
       "[60-70)     10399\n",
       "[80-90)      8301\n",
       "[50-60)      7585\n",
       "[40-50)      4305\n",
       "[30-40)      1611\n",
       "[90-100)     1118\n",
       "[20-30)       746\n",
       "[10-20)       264\n",
       "[0-10)         29\n",
       "Name: readmitted, dtype: int64"
      ]
     },
     "execution_count": 17,
     "metadata": {},
     "output_type": "execute_result"
    }
   ],
   "source": [
    "df_readmission_filtered.groupby('age')['readmitted'].count().sort_values(ascending = False)"
   ]
  },
  {
   "cell_type": "code",
   "execution_count": 18,
   "id": "7a45f3bc-4502-406b-b10b-fc1f49acb219",
   "metadata": {},
   "outputs": [],
   "source": [
    "# elderly people 50 onwards are more likely to get readmitted"
   ]
  },
  {
   "cell_type": "code",
   "execution_count": 19,
   "id": "f8c6a63c-6a99-46f4-8434-5743620e89f1",
   "metadata": {},
   "outputs": [],
   "source": [
    "# Question 3 - Which age + gender combinations dominate admissions?"
   ]
  },
  {
   "cell_type": "code",
   "execution_count": 20,
   "id": "66f1ce1b-bf79-4df4-af99-86c9a2e513a4",
   "metadata": {},
   "outputs": [
    {
     "data": {
      "text/plain": [
       "age       gender         \n",
       "[70-80)   Female             13985\n",
       "          Male               12081\n",
       "[60-70)   Male               11421\n",
       "          Female             11061\n",
       "[80-90)   Female             10515\n",
       "[50-60)   Male                8684\n",
       "          Female              8572\n",
       "[80-90)   Male                6682\n",
       "[40-50)   Male                4874\n",
       "          Female              4811\n",
       "[30-40)   Female              2162\n",
       "[90-100)  Female              2003\n",
       "[30-40)   Male                1613\n",
       "[20-30)   Female              1114\n",
       "[90-100)  Male                 790\n",
       "[20-30)   Male                 543\n",
       "[10-20)   Female               402\n",
       "          Male                 289\n",
       "[0-10)    Female                83\n",
       "          Male                  78\n",
       "[70-80)   Unknown/Invalid        2\n",
       "[60-70)   Unknown/Invalid        1\n",
       "Name: encounter_id, dtype: int64"
      ]
     },
     "execution_count": 20,
     "metadata": {},
     "output_type": "execute_result"
    }
   ],
   "source": [
    "df.groupby(['age', 'gender'])['encounter_id'].count().sort_values(ascending = False)"
   ]
  },
  {
   "cell_type": "code",
   "execution_count": 21,
   "id": "29934998-4d75-4c82-8bbf-a2f0ceab4b11",
   "metadata": {},
   "outputs": [
    {
     "data": {
      "text/plain": [
       "' age       gender         \\n[70-80)   Female             13985\\n          Male               12081\\n[60-70)   Male               11421\\n          Female             11061\\n[80-90)   Female             10515\\n[50-60)   Male                8684\\n          Female              8572'"
      ]
     },
     "execution_count": 21,
     "metadata": {},
     "output_type": "execute_result"
    }
   ],
   "source": [
    "''' age       gender         \n",
    "[70-80)   Female             13985\n",
    "          Male               12081\n",
    "[60-70)   Male               11421\n",
    "          Female             11061\n",
    "[80-90)   Female             10515\n",
    "[50-60)   Male                8684\n",
    "          Female              8572'''"
   ]
  },
  {
   "cell_type": "code",
   "execution_count": 22,
   "id": "75c58233-48c6-4b7f-a86a-b2f35b70f348",
   "metadata": {},
   "outputs": [],
   "source": [
    "# Question 4 - How many patients are repeat visitors (same patient_nbr multiple times)?"
   ]
  },
  {
   "cell_type": "code",
   "execution_count": 23,
   "id": "5c0d6b34-8303-46da-80ac-ddd33e958d6e",
   "metadata": {},
   "outputs": [
    {
     "name": "stdout",
     "output_type": "stream",
     "text": [
      "16773\n"
     ]
    }
   ],
   "source": [
    "repeat_visitors = (df['patient_nbr'].value_counts() > 1).sum()\n",
    "print(repeat_visitors)"
   ]
  },
  {
   "cell_type": "code",
   "execution_count": 24,
   "id": "a5874c1e-da53-4ced-b459-16c021ff82e8",
   "metadata": {},
   "outputs": [],
   "source": [
    "# Admission & Discharge"
   ]
  },
  {
   "cell_type": "code",
   "execution_count": 25,
   "id": "c8dab7b2-164f-4bb9-9727-4eb30216ccfe",
   "metadata": {},
   "outputs": [],
   "source": [
    "# Question 5 - What are the most common admission types (admission_type_id)?"
   ]
  },
  {
   "cell_type": "code",
   "execution_count": 26,
   "id": "b99ec8f5-b672-4c2c-aefd-8712b49dc062",
   "metadata": {},
   "outputs": [
    {
     "data": {
      "text/plain": [
       "admission_type_id\n",
       "1    53990\n",
       "3    18869\n",
       "2    18480\n",
       "6     5291\n",
       "5     4785\n",
       "Name: count, dtype: int64"
      ]
     },
     "execution_count": 26,
     "metadata": {},
     "output_type": "execute_result"
    }
   ],
   "source": [
    "df['admission_type_id'].value_counts().sort_values(ascending = False).head(5)"
   ]
  },
  {
   "cell_type": "code",
   "execution_count": 27,
   "id": "115d671b-0d5b-4434-b9cc-5e497b0dec33",
   "metadata": {},
   "outputs": [],
   "source": [
    "# Question 6 - Which discharge dispositions are most frequent? (e.g., discharged home vs transferred)"
   ]
  },
  {
   "cell_type": "code",
   "execution_count": 28,
   "id": "2cacc365-b288-435a-b0c6-e9ad6ca2b987",
   "metadata": {},
   "outputs": [
    {
     "data": {
      "text/plain": [
       "discharge_disposition_id\n",
       "1     60234\n",
       "3     13954\n",
       "6     12902\n",
       "18     3691\n",
       "2      2128\n",
       "Name: count, dtype: int64"
      ]
     },
     "execution_count": 28,
     "metadata": {},
     "output_type": "execute_result"
    }
   ],
   "source": [
    "df['discharge_disposition_id'].value_counts().sort_values(ascending = False).head(5)"
   ]
  },
  {
   "cell_type": "code",
   "execution_count": 29,
   "id": "38e22119-b92b-4690-9550-e03081f09f9e",
   "metadata": {},
   "outputs": [],
   "source": [
    "# Question 7 - What are the top admission sources (ER, referral, physician)?"
   ]
  },
  {
   "cell_type": "code",
   "execution_count": 30,
   "id": "81934a32-ccad-433b-942d-c21161462bed",
   "metadata": {},
   "outputs": [
    {
     "data": {
      "text/plain": [
       "admission_source_id\n",
       "7     57494\n",
       "1     29565\n",
       "17     6781\n",
       "4      3187\n",
       "6      2264\n",
       "Name: count, dtype: int64"
      ]
     },
     "execution_count": 30,
     "metadata": {},
     "output_type": "execute_result"
    }
   ],
   "source": [
    "df['admission_source_id'].value_counts().sort_values(ascending = False).head(5)"
   ]
  },
  {
   "cell_type": "code",
   "execution_count": 31,
   "id": "a74f9b8d-af36-450c-9531-700f2e521889",
   "metadata": {},
   "outputs": [],
   "source": [
    "# Question 8 - How does time in hospital vary by admission type or discharge disposition?"
   ]
  },
  {
   "cell_type": "code",
   "execution_count": 32,
   "id": "4351bdbb-39f8-4058-b6d0-d0202e75f5de",
   "metadata": {},
   "outputs": [],
   "source": [
    "admission_id_time_in_hospital = df.groupby('admission_type_id')['time_in_hospital'].sum().sort_values(ascending = False).to_frame()"
   ]
  },
  {
   "cell_type": "code",
   "execution_count": 33,
   "id": "133fc969-db24-49a8-831f-39384a018683",
   "metadata": {},
   "outputs": [
    {
     "data": {
      "text/html": [
       "<div>\n",
       "<style scoped>\n",
       "    .dataframe tbody tr th:only-of-type {\n",
       "        vertical-align: middle;\n",
       "    }\n",
       "\n",
       "    .dataframe tbody tr th {\n",
       "        vertical-align: top;\n",
       "    }\n",
       "\n",
       "    .dataframe thead th {\n",
       "        text-align: right;\n",
       "    }\n",
       "</style>\n",
       "<table border=\"1\" class=\"dataframe\">\n",
       "  <thead>\n",
       "    <tr style=\"text-align: right;\">\n",
       "      <th></th>\n",
       "      <th>admission_type_id</th>\n",
       "      <th>time_in_hospital</th>\n",
       "    </tr>\n",
       "  </thead>\n",
       "  <tbody>\n",
       "    <tr>\n",
       "      <th>0</th>\n",
       "      <td>1</td>\n",
       "      <td>236383</td>\n",
       "    </tr>\n",
       "    <tr>\n",
       "      <th>1</th>\n",
       "      <td>2</td>\n",
       "      <td>85206</td>\n",
       "    </tr>\n",
       "    <tr>\n",
       "      <th>2</th>\n",
       "      <td>3</td>\n",
       "      <td>81523</td>\n",
       "    </tr>\n",
       "    <tr>\n",
       "      <th>3</th>\n",
       "      <td>6</td>\n",
       "      <td>24249</td>\n",
       "    </tr>\n",
       "    <tr>\n",
       "      <th>4</th>\n",
       "      <td>5</td>\n",
       "      <td>18887</td>\n",
       "    </tr>\n",
       "    <tr>\n",
       "      <th>5</th>\n",
       "      <td>8</td>\n",
       "      <td>980</td>\n",
       "    </tr>\n",
       "    <tr>\n",
       "      <th>6</th>\n",
       "      <td>7</td>\n",
       "      <td>102</td>\n",
       "    </tr>\n",
       "    <tr>\n",
       "      <th>7</th>\n",
       "      <td>4</td>\n",
       "      <td>32</td>\n",
       "    </tr>\n",
       "  </tbody>\n",
       "</table>\n",
       "</div>"
      ],
      "text/plain": [
       "   admission_type_id  time_in_hospital\n",
       "0                  1            236383\n",
       "1                  2             85206\n",
       "2                  3             81523\n",
       "3                  6             24249\n",
       "4                  5             18887\n",
       "5                  8               980\n",
       "6                  7               102\n",
       "7                  4                32"
      ]
     },
     "execution_count": 33,
     "metadata": {},
     "output_type": "execute_result"
    }
   ],
   "source": [
    "admission_id_time_in_hospital.reset_index()"
   ]
  },
  {
   "cell_type": "code",
   "execution_count": 34,
   "id": "9576d14f-6e9c-4631-a084-939fb2d04fe1",
   "metadata": {},
   "outputs": [
    {
     "data": {
      "image/png": "[encoded data removed]",
      "text/plain": [
       "<Figure size 640x480 with 1 Axes>"
      ]
     },
     "metadata": {},
     "output_type": "display_data"
    }
   ],
   "source": [
    "sns.lineplot(admission_id_time_in_hospital)\n",
    "plt.xlabel('admission_id')\n",
    "plt.ylabel('Total days in Hospital')\n",
    "plt.show()"
   ]
  },
  {
   "cell_type": "code",
   "execution_count": 35,
   "id": "6b104ad8-8ae6-4b0d-92d7-3e9721d09adc",
   "metadata": {},
   "outputs": [],
   "source": [
    "# Medical Specialties & Procedures"
   ]
  },
  {
   "cell_type": "code",
   "execution_count": 36,
   "id": "d95c96b8-add4-44d7-bb4c-1bf130f7df7d",
   "metadata": {},
   "outputs": [],
   "source": [
    "# Question 9 - What are the top medical specialties patients are admitted to?"
   ]
  },
  {
   "cell_type": "code",
   "execution_count": 37,
   "id": "83837662-44f2-4ec4-a11e-a7d3ca2923c8",
   "metadata": {},
   "outputs": [
    {
     "data": {
      "text/plain": [
       "medical_specialty\n",
       "Not recorded              49949\n",
       "InternalMedicine          14635\n",
       "Emergency/Trauma           7565\n",
       "Family/GeneralPractice     7440\n",
       "Cardiology                 5352\n",
       "Name: count, dtype: int64"
      ]
     },
     "execution_count": 37,
     "metadata": {},
     "output_type": "execute_result"
    }
   ],
   "source": [
    "df['medical_specialty'].value_counts().sort_values(ascending = False).head()"
   ]
  },
  {
   "cell_type": "code",
   "execution_count": 38,
   "id": "53f90177-163d-4ed6-beff-d7e8c4aae800",
   "metadata": {},
   "outputs": [],
   "source": [
    "# InternalMedicine, Emergency/Trauma, Family/GeneralPractice, Cardiology are the most common medical_specialities pateints are admitted to"
   ]
  },
  {
   "cell_type": "code",
   "execution_count": 39,
   "id": "c74bc6b4-7ac9-4c49-8470-6dd659ae4c9a",
   "metadata": {},
   "outputs": [],
   "source": [
    "# Question 10 - Which specialties have the longest average hospital stay?"
   ]
  },
  {
   "cell_type": "code",
   "execution_count": 40,
   "id": "6de9a99d-d442-4d05-a349-7074840173d2",
   "metadata": {},
   "outputs": [
    {
     "data": {
      "text/plain": [
       "medical_specialty\n",
       "Pediatrics-AllergyandImmunology      12.666667\n",
       "Pediatrics-Pulmonology                9.720000\n",
       "PhysicalMedicineandRehabilitation     8.872123\n",
       "Psychiatry-Addictive                  8.000000\n",
       "Pathology                             7.705882\n",
       "Name: time_in_hospital, dtype: float64"
      ]
     },
     "execution_count": 40,
     "metadata": {},
     "output_type": "execute_result"
    }
   ],
   "source": [
    "df.groupby('medical_specialty')['time_in_hospital'].mean().sort_values(ascending = False).head()"
   ]
  },
  {
   "cell_type": "code",
   "execution_count": 41,
   "id": "ce923b07-f0d3-448b-ad38-ddff09c06ec2",
   "metadata": {},
   "outputs": [],
   "source": [
    "# Pediatrics-AllergyandImmunology have the longest average hospital stay"
   ]
  },
  {
   "cell_type": "code",
   "execution_count": 42,
   "id": "d350f64a-1a6c-4ff8-a8c3-4811c65ed4ca",
   "metadata": {},
   "outputs": [],
   "source": [
    "# Question 11 - Which specialties have the highest readmission rates?"
   ]
  },
  {
   "cell_type": "code",
   "execution_count": 43,
   "id": "d95e56e9-6426-4fc1-a356-a7251c2115ee",
   "metadata": {},
   "outputs": [],
   "source": [
    "total_readmissions = len(df_readmission_filtered)"
   ]
  },
  {
   "cell_type": "code",
   "execution_count": 44,
   "id": "6567e730-212e-461f-bd1a-82621c633a74",
   "metadata": {},
   "outputs": [
    {
     "data": {
      "text/plain": [
       "medical_specialty\n",
       "Not recorded              23997\n",
       "InternalMedicine           6369\n",
       "Emergency/Trauma           3852\n",
       "Family/GeneralPractice     3546\n",
       "Cardiology                 2278\n",
       "Name: readmitted, dtype: int64"
      ]
     },
     "execution_count": 44,
     "metadata": {},
     "output_type": "execute_result"
    }
   ],
   "source": [
    "df_readmission_filtered.groupby(['medical_specialty'])['readmitted'].count().sort_values(ascending = False).head()"
   ]
  },
  {
   "cell_type": "code",
   "execution_count": 45,
   "id": "b8b5e7f5-7a52-4ba4-9edd-41eca6af0f55",
   "metadata": {},
   "outputs": [],
   "source": [
    "# InternalMedicine have the highest readmission rates"
   ]
  },
  {
   "cell_type": "code",
   "execution_count": 46,
   "id": "f8db0a0f-fb56-475f-a967-794b06230b55",
   "metadata": {},
   "outputs": [],
   "source": [
    "# Question 12 - What’s the distribution of number of lab procedures, procedures, and medications across patients?"
   ]
  },
  {
   "cell_type": "code",
   "execution_count": 47,
   "id": "6e513877-11af-4a08-9b28-48a43ccaa69d",
   "metadata": {},
   "outputs": [
    {
     "data": {
      "image/png": "[encoded data removed]",
      "text/plain": [
       "<Figure size 640x480 with 1 Axes>"
      ]
     },
     "metadata": {},
     "output_type": "display_data"
    }
   ],
   "source": [
    "plt.hist(df['num_lab_procedures'], label = 'num_lab_procedures', alpha = 0.5)\n",
    "plt.hist(df['num_procedures'], label = 'num_procedures', alpha = 0.5)\n",
    "plt.hist(df['num_medications'], label = 'num_medications', alpha = 0.5)\n",
    "plt.xlabel(\"Value\")\n",
    "plt.ylabel(\"Frequency\")\n",
    "plt.title(\"lab_procedures, procedures, medications \")\n",
    "plt.legend()\n",
    "\n",
    "# Show plot\n",
    "plt.show()"
   ]
  },
  {
   "cell_type": "code",
   "execution_count": 48,
   "id": "3805da18-e441-4476-bb92-96e84ce2fdba",
   "metadata": {},
   "outputs": [],
   "source": [
    "# Insights  - "
   ]
  },
  {
   "cell_type": "code",
   "execution_count": 49,
   "id": "d2699ebb-fdaa-4eef-bb2c-ea514a2c3e4c",
   "metadata": {},
   "outputs": [],
   "source": [
    "# Question 13 -  patients with more medications tend to have longer stays?"
   ]
  },
  {
   "cell_type": "code",
   "execution_count": 50,
   "id": "113d1a8e-e741-4616-8208-9ea4e299b432",
   "metadata": {},
   "outputs": [
    {
     "data": {
      "image/png": "[encoded data removed]",
      "text/plain": [
       "<Figure size 640x480 with 1 Axes>"
      ]
     },
     "metadata": {},
     "output_type": "display_data"
    }
   ],
   "source": [
    "sns.scatterplot(data = df, x = 'num_medications', y = 'time_in_hospital')\n",
    "plt.show()"
   ]
  },
  {
   "cell_type": "code",
   "execution_count": 51,
   "id": "ede98fd3-c329-4cf6-85c2-c079b6c6be98",
   "metadata": {},
   "outputs": [],
   "source": [
    "# Insights - \n",
    "# Some patients received a very high number of medications (60–80), but those cases are rare (few dots on the far right).\n",
    "# There isn’t a clear linear relationship (e.g., more days doesn’t always mean more medications). The distribution looks scattered."
   ]
  },
  {
   "cell_type": "code",
   "execution_count": 52,
   "id": "1ad45a47-d807-4471-9abb-1e5dd05619cd",
   "metadata": {},
   "outputs": [],
   "source": [
    "# Diagnoses & Conditions"
   ]
  },
  {
   "cell_type": "code",
   "execution_count": 53,
   "id": "51f5f830-0b23-4781-b1a2-c9f7120fb118",
   "metadata": {},
   "outputs": [],
   "source": [
    "# Question 14 - What are the most common primary diagnoses (diag_1)?"
   ]
  },
  {
   "cell_type": "code",
   "execution_count": 54,
   "id": "4d111ed8-09c1-4f4c-98cb-351d5c7d560b",
   "metadata": {},
   "outputs": [
    {
     "data": {
      "text/plain": [
       "diag_1\n",
       "428    6862\n",
       "414    6581\n",
       "786    4016\n",
       "410    3614\n",
       "486    3508\n",
       "Name: count, dtype: int64"
      ]
     },
     "execution_count": 54,
     "metadata": {},
     "output_type": "execute_result"
    }
   ],
   "source": [
    "df['diag_1'].value_counts().sort_values(ascending = False).head()"
   ]
  },
  {
   "cell_type": "code",
   "execution_count": 55,
   "id": "b488f63e-2e4a-4e92-ac4e-cfc6652b931f",
   "metadata": {},
   "outputs": [],
   "source": [
    "# Insights - find what these number mean"
   ]
  },
  {
   "cell_type": "code",
   "execution_count": 56,
   "id": "2b9f3951-c6bc-436f-b6bf-e466032bceab",
   "metadata": {},
   "outputs": [],
   "source": [
    "# Question 15 - How many patients have multiple diagnoses (number_diagnoses)?"
   ]
  },
  {
   "cell_type": "code",
   "execution_count": 57,
   "id": "e5277d41-8679-4438-8fe0-3e5800e8b2ca",
   "metadata": {},
   "outputs": [],
   "source": [
    "df_mult_diagnosis_filtered = df[df['number_diagnoses']>1]"
   ]
  },
  {
   "cell_type": "code",
   "execution_count": 58,
   "id": "96e3a71b-4297-4a93-a3cf-ce9fe360facc",
   "metadata": {},
   "outputs": [
    {
     "data": {
      "text/plain": [
       "71340"
      ]
     },
     "execution_count": 58,
     "metadata": {},
     "output_type": "execute_result"
    }
   ],
   "source": [
    "df_mult_diagnosis_filtered['patient_nbr'].nunique()"
   ]
  },
  {
   "cell_type": "code",
   "execution_count": 59,
   "id": "cbb44ec1-7d37-4332-baa2-2c3d81b9643f",
   "metadata": {},
   "outputs": [],
   "source": [
    "# Question 16 - Which diagnosis categories (e.g., diabetes, heart disease, infections) are linked with higher readmissions?"
   ]
  },
  {
   "cell_type": "code",
   "execution_count": 60,
   "id": "e1b7a72e-b5f9-49c1-a90a-c97f531501ee",
   "metadata": {},
   "outputs": [
    {
     "data": {
      "text/plain": [
       "diag_1\n",
       "428    4057\n",
       "414    2720\n",
       "786    1709\n",
       "486    1683\n",
       "410    1438\n",
       "Name: readmitted, dtype: int64"
      ]
     },
     "execution_count": 60,
     "metadata": {},
     "output_type": "execute_result"
    }
   ],
   "source": [
    "df_readmission_filtered.groupby('diag_1')['readmitted'].count().sort_values(ascending = False).head()"
   ]
  },
  {
   "cell_type": "code",
   "execution_count": 61,
   "id": "19b2b136-f424-4fd3-b3e1-5402b26cafca",
   "metadata": {},
   "outputs": [],
   "source": [
    "# Question 17 - Is there a difference in LOS (time_in_hospital) across diagnosis categories?"
   ]
  },
  {
   "cell_type": "code",
   "execution_count": 62,
   "id": "ac2ff48b-5ba4-4edd-803f-e41eadf08f52",
   "metadata": {},
   "outputs": [
    {
     "data": {
      "text/plain": [
       "diag_1\n",
       "145    13.0\n",
       "10     12.0\n",
       "48     11.5\n",
       "114    11.0\n",
       "731    10.5\n",
       "Name: time_in_hospital, dtype: float64"
      ]
     },
     "execution_count": 62,
     "metadata": {},
     "output_type": "execute_result"
    }
   ],
   "source": [
    "df.groupby('diag_1')['time_in_hospital'].mean().sort_values(ascending = False).head()"
   ]
  },
  {
   "cell_type": "code",
   "execution_count": 63,
   "id": "9cff36f7-c4f8-48f5-b88e-d9b5b0b4d02c",
   "metadata": {},
   "outputs": [],
   "source": [
    "# Lab Results"
   ]
  },
  {
   "cell_type": "code",
   "execution_count": 64,
   "id": "7ebcb2b9-89ee-46d3-aff0-fba2753f1cdd",
   "metadata": {},
   "outputs": [],
   "source": [
    "# Question 18 - How many patients had glucose serum tests and what were the results?"
   ]
  },
  {
   "cell_type": "code",
   "execution_count": 65,
   "id": "e3f8e4bf-6db0-4ab6-b750-d6af0fdd5cc8",
   "metadata": {},
   "outputs": [
    {
     "data": {
      "text/plain": [
       "max_glu_serum\n",
       "Not tested    96420\n",
       "Norm           2597\n",
       ">200           1485\n",
       ">300           1264\n",
       "Name: count, dtype: int64"
      ]
     },
     "execution_count": 65,
     "metadata": {},
     "output_type": "execute_result"
    }
   ],
   "source": [
    "df['max_glu_serum'].value_counts()"
   ]
  },
  {
   "cell_type": "code",
   "execution_count": 66,
   "id": "73e7ec17-ca22-47e8-87e2-27dbee3d1c88",
   "metadata": {},
   "outputs": [],
   "source": [
    "# Question 19 - How many patients had A1C tests and what were the results?"
   ]
  },
  {
   "cell_type": "code",
   "execution_count": 67,
   "id": "d45604a5-f134-4b24-8c29-be8acc592e55",
   "metadata": {},
   "outputs": [
    {
     "data": {
      "text/plain": [
       "A1Cresult\n",
       "Not tested    84748\n",
       ">8             8216\n",
       "Norm           4990\n",
       ">7             3812\n",
       "Name: count, dtype: int64"
      ]
     },
     "execution_count": 67,
     "metadata": {},
     "output_type": "execute_result"
    }
   ],
   "source": [
    "df['A1Cresult'].value_counts()"
   ]
  },
  {
   "cell_type": "code",
   "execution_count": 68,
   "id": "e4d622b5-a1a0-45cc-8794-077aff27cfe9",
   "metadata": {},
   "outputs": [],
   "source": [
    "# Question 20 - Are patients with abnormal A1C results more likely to be readmitted?"
   ]
  },
  {
   "cell_type": "code",
   "execution_count": 69,
   "id": "ee91de12-1930-4496-a87e-92b06f9adb1c",
   "metadata": {},
   "outputs": [],
   "source": [
    "abnormal = df.query(\"A1Cresult == '>8' or A1Cresult == '>7'\")\n",
    "normal  = df.query(\"A1Cresult == 'Norm'\")"
   ]
  },
  {
   "cell_type": "code",
   "execution_count": 70,
   "id": "d26ca3d6-fe57-4037-b3cb-758a37f5161d",
   "metadata": {},
   "outputs": [
    {
     "name": "stdout",
     "output_type": "stream",
     "text": [
      "Readmission rate (abnormal A1C): 0.4485367475889591\n",
      "Readmission rate (normal A1C): 0.41703406813627253\n"
     ]
    }
   ],
   "source": [
    "abnormal_rate = (abnormal['readmitted'] != 'NO').mean()\n",
    "normal_rate = (normal['readmitted'] != 'NO').mean()\n",
    "\n",
    "print(\"Readmission rate (abnormal A1C):\", abnormal_rate)\n",
    "print(\"Readmission rate (normal A1C):\", normal_rate)"
   ]
  },
  {
   "cell_type": "code",
   "execution_count": 71,
   "id": "f05ddf34-589b-45c7-a41d-4e13675e6a11",
   "metadata": {},
   "outputs": [],
   "source": [
    "# Patients with abnormal A1C results more likely to be readmitted"
   ]
  },
  {
   "cell_type": "code",
   "execution_count": 72,
   "id": "ea655a04-0c8a-4f5c-b1a3-9d62f19d9699",
   "metadata": {},
   "outputs": [],
   "source": [
    "# Medications"
   ]
  },
  {
   "cell_type": "code",
   "execution_count": 73,
   "id": "854c5e36-28c5-4dc6-903b-88ddd01410d3",
   "metadata": {},
   "outputs": [],
   "source": [
    "# Question 21 - What are the most commonly prescribed diabetes medications?"
   ]
  },
  {
   "cell_type": "code",
   "execution_count": 74,
   "id": "7853b9f7-fd81-4a59-8ebc-d0acf0a97163",
   "metadata": {},
   "outputs": [],
   "source": [
    "diabetes_filtered = df[df['diabetesMed'] == 'Yes']"
   ]
  },
  {
   "cell_type": "code",
   "execution_count": 75,
   "id": "9018b72e-855e-4e0b-ae4f-6c7e2aa7617c",
   "metadata": {},
   "outputs": [],
   "source": [
    "drug_col = [\n",
    "    'metformin', 'repaglinide', 'nateglinide', 'chlorpropamide', 'glimepiride',\n",
    "    'acetohexamide', 'glipizide', 'glyburide', 'tolbutamide', 'pioglitazone',\n",
    "    'rosiglitazone', 'acarbose', 'miglitol', 'troglitazone', 'tolazamide',\n",
    "    'examide', 'citoglipton', 'insulin', 'glyburide-metformin', 'glipizide-metformin'\n",
    "]"
   ]
  },
  {
   "cell_type": "code",
   "execution_count": 76,
   "id": "33a8d1db-c981-42e9-8027-7e45ca489656",
   "metadata": {},
   "outputs": [],
   "source": [
    "drug_counts = diabetes_filtered[drug_col].apply(lambda x: (x != 'No').sum()).sort_values(ascending=False)"
   ]
  },
  {
   "cell_type": "code",
   "execution_count": 77,
   "id": "8259ddf4-3fdf-408e-b9d0-b611d151f433",
   "metadata": {},
   "outputs": [
    {
     "data": {
      "text/plain": [
       "insulin                54383\n",
       "metformin              19988\n",
       "glipizide              12686\n",
       "glyburide              10650\n",
       "pioglitazone            7328\n",
       "rosiglitazone           6365\n",
       "glimepiride             5191\n",
       "repaglinide             1539\n",
       "glyburide-metformin      706\n",
       "nateglinide              703\n",
       "acarbose                 308\n",
       "chlorpropamide            86\n",
       "tolazamide                39\n",
       "miglitol                  38\n",
       "tolbutamide               23\n",
       "glipizide-metformin       13\n",
       "troglitazone               3\n",
       "acetohexamide              1\n",
       "examide                    0\n",
       "citoglipton                0\n",
       "dtype: int64"
      ]
     },
     "execution_count": 77,
     "metadata": {},
     "output_type": "execute_result"
    }
   ],
   "source": [
    "drug_counts"
   ]
  },
  {
   "cell_type": "code",
   "execution_count": 78,
   "id": "c9adeeb6-4404-40a6-8270-ee4545476bf8",
   "metadata": {},
   "outputs": [],
   "source": [
    "#Insulin, Metformin, glipizide, glyburide are the most prescribed drugs"
   ]
  },
  {
   "cell_type": "code",
   "execution_count": 79,
   "id": "d3548660-ccd2-4d10-846e-620098630837",
   "metadata": {},
   "outputs": [],
   "source": [
    "# Question 22 - How often do medication regimens change during hospitalization?"
   ]
  },
  {
   "cell_type": "code",
   "execution_count": 80,
   "id": "2310ff5f-53dd-46ee-afd7-17b624c81649",
   "metadata": {},
   "outputs": [
    {
     "data": {
      "text/plain": [
       "0.46195192893500775"
      ]
     },
     "execution_count": 80,
     "metadata": {},
     "output_type": "execute_result"
    }
   ],
   "source": [
    "medication_change = len(df[df['change'] =='Ch'])/len(df)\n",
    "medication_change"
   ]
  },
  {
   "cell_type": "code",
   "execution_count": 81,
   "id": "28369994-0e9f-44fb-9d55-d4a791ecac54",
   "metadata": {},
   "outputs": [],
   "source": [
    "# 46 % times medications change during hospitalization"
   ]
  },
  {
   "cell_type": "code",
   "execution_count": 82,
   "id": "d6c00ddd-af39-4daf-a6fa-e1bad6bb1734",
   "metadata": {},
   "outputs": [],
   "source": [
    "# Question 23 - Is there a difference in readmission rates by insulin use (Yes/No)?"
   ]
  },
  {
   "cell_type": "code",
   "execution_count": 83,
   "id": "0bbcd72e-0e33-4d05-98cc-41702197b652",
   "metadata": {},
   "outputs": [
    {
     "data": {
      "text/plain": [
       "<Axes: xlabel='insulin'>"
      ]
     },
     "execution_count": 83,
     "metadata": {},
     "output_type": "execute_result"
    },
    {
     "data": {
      "image/png": "[encoded data removed]",
      "text/plain": [
       "<Figure size 640x480 with 1 Axes>"
      ]
     },
     "metadata": {},
     "output_type": "display_data"
    }
   ],
   "source": [
    "df_readmission_filtered['insulin'].value_counts().plot(kind = 'bar')"
   ]
  },
  {
   "cell_type": "code",
   "execution_count": 84,
   "id": "116c02ce-dcd4-4e24-9e4a-77f4dcd1f693",
   "metadata": {},
   "outputs": [],
   "source": [
    "# for people who are not taking any insulin, the readmissions are more for such people as compared to who are taking Insulin"
   ]
  },
  {
   "cell_type": "code",
   "execution_count": 85,
   "id": "29548ca2-abc1-47ca-84c9-a08ced1c1c7e",
   "metadata": {},
   "outputs": [],
   "source": [
    "# Question 24 - Do patients on combination therapies (e.g., metformin+rosiglitazone) differ in outcomes?"
   ]
  },
  {
   "cell_type": "code",
   "execution_count": 86,
   "id": "2776fe28-17f1-44ea-8d86-da99770c32b3",
   "metadata": {},
   "outputs": [],
   "source": [
    "cols = [ 'glyburide-metformin',\n",
    "    'glipizide-metformin',\n",
    "    'glimepiride-pioglitazone',\n",
    "    'metformin-rosiglitazone',\n",
    "    'metformin-pioglitazone']"
   ]
  },
  {
   "cell_type": "code",
   "execution_count": 87,
   "id": "1a1daccc-256b-46ba-802d-52391e3c96c8",
   "metadata": {},
   "outputs": [],
   "source": [
    "# patients on Combination therapy"
   ]
  },
  {
   "cell_type": "code",
   "execution_count": 88,
   "id": "15b93a82-e769-4a2d-8e15-128f421f2408",
   "metadata": {},
   "outputs": [
    {
     "name": "stdout",
     "output_type": "stream",
     "text": [
      "Number of patients on any combination therapy: 344\n"
     ]
    }
   ],
   "source": [
    "combo_users= (df_readmission_filtered[cols] != 'No').any(axis = 1)\n",
    "num_combo_patients = combo_users.sum()\n",
    "print(\"Number of patients on any combination therapy:\", num_combo_patients)"
   ]
  },
  {
   "cell_type": "code",
   "execution_count": 89,
   "id": "2ea83972-af6c-4345-9037-afb1bf8e9547",
   "metadata": {},
   "outputs": [],
   "source": [
    "# patients not on combination therapy"
   ]
  },
  {
   "cell_type": "code",
   "execution_count": 90,
   "id": "0491fd5d-a382-4d29-b0a3-8bdb80e48453",
   "metadata": {},
   "outputs": [
    {
     "name": "stdout",
     "output_type": "stream",
     "text": [
      "Number of patients not on any combination therapy: 344\n"
     ]
    }
   ],
   "source": [
    "no_combo_users= (df_readmission_filtered[cols] == 'No').all(axis = 1)\n",
    "no_combo_patients = combo_users.sum()\n",
    "print(\"Number of patients not on any combination therapy:\", no_combo_patients)"
   ]
  },
  {
   "cell_type": "code",
   "execution_count": 91,
   "id": "f89ae056-5c32-4fb1-a9d7-70e56833484b",
   "metadata": {},
   "outputs": [
    {
     "data": {
      "text/plain": [
       "46902"
      ]
     },
     "execution_count": 91,
     "metadata": {},
     "output_type": "execute_result"
    }
   ],
   "source": [
    "number_of_patients_readmitted = len(df_readmission_filtered)\n",
    "number_of_patients_readmitted"
   ]
  },
  {
   "cell_type": "code",
   "execution_count": 92,
   "id": "a8206818-87cb-4092-ab12-740730064ec3",
   "metadata": {},
   "outputs": [
    {
     "name": "stdout",
     "output_type": "stream",
     "text": [
      " Ratio of people not taking any combination therapy who were readmitted 0.007334442028058505\n"
     ]
    }
   ],
   "source": [
    "no_combination_readmission_ratio = no_combo_patients/number_of_patients_readmitted\n",
    "print(\" Ratio of people not taking any combination therapy who were readmitted\",  no_combination_readmission_ratio)"
   ]
  },
  {
   "cell_type": "code",
   "execution_count": 93,
   "id": "66fee28a-c342-4d18-aa2e-68cfbc5453b3",
   "metadata": {},
   "outputs": [
    {
     "name": "stdout",
     "output_type": "stream",
     "text": [
      " Ratio of people taking any of the combination therapy who were readmitted 0.007334442028058505\n"
     ]
    }
   ],
   "source": [
    "combination_readmission_ratio = num_combo_patients/number_of_patients_readmitted\n",
    "print(\" Ratio of people taking any of the combination therapy who were readmitted\",  combination_readmission_ratio)"
   ]
  },
  {
   "cell_type": "code",
   "execution_count": 94,
   "id": "3455197c-db2a-4e7e-9273-a108110c92e3",
   "metadata": {},
   "outputs": [],
   "source": [
    "# Insights  - only 0.7% people who were on nay kind of combination drugs were readmitted"
   ]
  },
  {
   "cell_type": "code",
   "execution_count": 95,
   "id": "531c69d4-caf9-4317-a6b8-0fad030fab2e",
   "metadata": {},
   "outputs": [],
   "source": [
    "# Readmission Analysis (Main KPI)"
   ]
  },
  {
   "cell_type": "code",
   "execution_count": 96,
   "id": "89144950-858b-4127-84ad-b8fac9a47af9",
   "metadata": {},
   "outputs": [],
   "source": [
    "# Question 25 - What is the overall readmission rate?"
   ]
  },
  {
   "cell_type": "code",
   "execution_count": 97,
   "id": "4d802036-831d-4630-ba7a-574204a3b9fc",
   "metadata": {},
   "outputs": [
    {
     "name": "stdout",
     "output_type": "stream",
     "text": [
      "Overall readmission rate is  0.4608808442898414\n"
     ]
    }
   ],
   "source": [
    "overall_readmission_rate = len(df_readmission_filtered)/len(df)\n",
    "print('Overall readmission rate is ', overall_readmission_rate)"
   ]
  },
  {
   "cell_type": "code",
   "execution_count": 98,
   "id": "02052350-cbcc-4391-ac5b-2b3f5286ad5c",
   "metadata": {},
   "outputs": [
    {
     "data": {
      "text/plain": [
       "<Axes: xlabel='age'>"
      ]
     },
     "execution_count": 98,
     "metadata": {},
     "output_type": "execute_result"
    },
    {
     "data": {
      "image/png": "[encoded data removed]",
      "text/plain": [
       "<Figure size 640x480 with 1 Axes>"
      ]
     },
     "metadata": {},
     "output_type": "display_data"
    }
   ],
   "source": [
    "df_readmission_filtered['age'].value_counts().plot(kind = 'bar')"
   ]
  },
  {
   "cell_type": "code",
   "execution_count": 99,
   "id": "8570c016-fabd-4c12-8f51-5afa1b008397",
   "metadata": {},
   "outputs": [
    {
     "data": {
      "text/plain": [
       "<Axes: xlabel='gender'>"
      ]
     },
     "execution_count": 99,
     "metadata": {},
     "output_type": "execute_result"
    },
    {
     "data": {
      "image/png": "[encoded data removed]",
      "text/plain": [
       "<Figure size 640x480 with 1 Axes>"
      ]
     },
     "metadata": {},
     "output_type": "display_data"
    }
   ],
   "source": [
    "df_readmission_filtered['gender'].value_counts().plot(kind = 'bar')"
   ]
  },
  {
   "cell_type": "code",
   "execution_count": 100,
   "id": "d934d710-26b0-43e9-b4bb-2250757cd29d",
   "metadata": {},
   "outputs": [
    {
     "data": {
      "text/plain": [
       "<Axes: xlabel='race'>"
      ]
     },
     "execution_count": 100,
     "metadata": {},
     "output_type": "execute_result"
    },
    {
     "data": {
      "image/png": "[encoded data removed]",
      "text/plain": [
       "<Figure size 640x480 with 1 Axes>"
      ]
     },
     "metadata": {},
     "output_type": "display_data"
    }
   ],
   "source": [
    "df_readmission_filtered['race'].value_counts().plot(kind = 'bar')"
   ]
  },
  {
   "cell_type": "code",
   "execution_count": 101,
   "id": "00efcd3d-62e1-41d4-89aa-005958b3926f",
   "metadata": {},
   "outputs": [
    {
     "data": {
      "text/plain": [
       "<Axes: xlabel='admission_type_id'>"
      ]
     },
     "execution_count": 101,
     "metadata": {},
     "output_type": "execute_result"
    },
    {
     "data": {
      "image/png": "[encoded data removed]",
      "text/plain": [
       "<Figure size 640x480 with 1 Axes>"
      ]
     },
     "metadata": {},
     "output_type": "display_data"
    }
   ],
   "source": [
    "df_readmission_filtered['admission_type_id'].value_counts().plot(kind = 'bar')"
   ]
  },
  {
   "cell_type": "code",
   "execution_count": 102,
   "id": "6b053763-559c-4006-b1d9-a5114102c58d",
   "metadata": {},
   "outputs": [
    {
     "data": {
      "text/plain": [
       "<Axes: xlabel='medical_specialty'>"
      ]
     },
     "execution_count": 102,
     "metadata": {},
     "output_type": "execute_result"
    },
    {
     "data": {
      "image/png": "[encoded data removed]",
      "text/plain": [
       "<Figure size 640x480 with 1 Axes>"
      ]
     },
     "metadata": {},
     "output_type": "display_data"
    }
   ],
   "source": [
    "df_readmission_filtered['medical_specialty'].value_counts().head(10).plot(kind = 'bar')"
   ]
  },
  {
   "cell_type": "code",
   "execution_count": 103,
   "id": "705c38b6-9b07-4437-8050-218ea2f86491",
   "metadata": {},
   "outputs": [
    {
     "data": {
      "text/plain": [
       "<Axes: xlabel='diag_1'>"
      ]
     },
     "execution_count": 103,
     "metadata": {},
     "output_type": "execute_result"
    },
    {
     "data": {
      "image/png": "[encoded data removed]",
      "text/plain": [
       "<Figure size 640x480 with 1 Axes>"
      ]
     },
     "metadata": {},
     "output_type": "display_data"
    }
   ],
   "source": [
    "df_readmission_filtered['diag_1'].value_counts().head().plot(kind = 'bar')"
   ]
  },
  {
   "cell_type": "code",
   "execution_count": 104,
   "id": "4bfd9d27-193e-4778-9383-a6783fb45fb0",
   "metadata": {},
   "outputs": [
    {
     "data": {
      "text/plain": [
       "<Axes: xlabel='A1Cresult'>"
      ]
     },
     "execution_count": 104,
     "metadata": {},
     "output_type": "execute_result"
    },
    {
     "data": {
      "image/png": "[encoded data removed]",
      "text/plain": [
       "<Figure size 640x480 with 1 Axes>"
      ]
     },
     "metadata": {},
     "output_type": "display_data"
    }
   ],
   "source": [
    "df_readmission_filtered['A1Cresult'].value_counts().plot(kind = 'bar')"
   ]
  },
  {
   "cell_type": "code",
   "execution_count": 105,
   "id": "315f1470-69ac-42f8-b9cd-450644fef56b",
   "metadata": {},
   "outputs": [],
   "source": [
    "# Question 26 - Do longer hospital stays reduce or increase readmission?"
   ]
  },
  {
   "cell_type": "code",
   "execution_count": 106,
   "id": "c430cfbe-4063-4576-ac30-d58720560633",
   "metadata": {},
   "outputs": [
    {
     "data": {
      "text/plain": [
       "readmitted\n",
       "<30    4.768249\n",
       ">30    4.495541\n",
       "Name: time_in_hospital, dtype: float64"
      ]
     },
     "execution_count": 106,
     "metadata": {},
     "output_type": "execute_result"
    }
   ],
   "source": [
    "df_readmission_filtered.groupby('readmitted')['time_in_hospital'].mean()"
   ]
  },
  {
   "cell_type": "code",
   "execution_count": 107,
   "id": "e31c7cc3-29a2-41e4-a5b4-38199e2a5691",
   "metadata": {},
   "outputs": [
    {
     "data": {
      "image/png": "[encoded data removed]",
      "text/plain": [
       "<Figure size 640x480 with 1 Axes>"
      ]
     },
     "metadata": {},
     "output_type": "display_data"
    }
   ],
   "source": [
    "sns.boxplot(x='readmitted', y='time_in_hospital', data=df_readmission_filtered)\n",
    "plt.show()"
   ]
  },
  {
   "cell_type": "code",
   "execution_count": null,
   "id": "bb6535a0-e1eb-40a6-9de0-ff0cc7f7ada1",
   "metadata": {},
   "outputs": [],
   "source": [
    "# people who are readmitted with in 30 days have slighlty less average time in hospital \n",
    "# as compared to those admitted after 30 days"
   ]
  },
  {
   "cell_type": "code",
   "execution_count": null,
   "id": "435a251a-34d7-4db2-9e90-6cb94d76af20",
   "metadata": {},
   "outputs": [],
   "source": [
    "# Operational Insights"
   ]
  },
  {
   "cell_type": "code",
   "execution_count": null,
   "id": "039dc9d1-fedd-45f9-98fa-4a30f8cad0a7",
   "metadata": {},
   "outputs": [],
   "source": [
    "# Question 28 - What is the average length of stay (LOS) across the dataset?"
   ]
  },
  {
   "cell_type": "code",
   "execution_count": 112,
   "id": "373dbe30-857c-4e40-b227-ea335f9a4d2c",
   "metadata": {},
   "outputs": [
    {
     "name": "stdout",
     "output_type": "stream",
     "text": [
      "4.4 Days\n"
     ]
    }
   ],
   "source": [
    "avg_length_stay = df['time_in_hospital'].mean().round(2)\n",
    "print(avg_length_stay, 'Days')"
   ]
  },
  {
   "cell_type": "code",
   "execution_count": null,
   "id": "50aeb5d9-deb1-4785-a0d1-5b159fb3d101",
   "metadata": {},
   "outputs": [],
   "source": [
    "# Question 30 - Which payer codes (insurance types) dominate, and do they impact LOS/readmission?"
   ]
  },
  {
   "cell_type": "code",
   "execution_count": 115,
   "id": "560c6c20-c219-4480-9f43-8a5e29068a63",
   "metadata": {},
   "outputs": [
    {
     "data": {
      "text/plain": [
       "payer_code\n",
       "FR            10.000000\n",
       "MP             6.734177\n",
       "Not tested     4.591663\n",
       "MC             4.484386\n",
       "MD             4.362118\n",
       "CM             4.349510\n",
       "OT             4.178947\n",
       "DM             4.178506\n",
       "UN             4.100082\n",
       "SP             4.045137\n",
       "HM             4.017851\n",
       "CP             3.881169\n",
       "PO             3.854730\n",
       "OG             3.853824\n",
       "WC             3.792593\n",
       "BC             3.687218\n",
       "SI             3.654545\n",
       "CH             3.534247\n",
       "Name: time_in_hospital, dtype: float64"
      ]
     },
     "execution_count": 115,
     "metadata": {},
     "output_type": "execute_result"
    }
   ],
   "source": [
    "df.groupby('payer_code')['time_in_hospital'].mean().sort_values(ascending = False)"
   ]
  },
  {
   "cell_type": "code",
   "execution_count": null,
   "id": "b0bba610-74d5-4639-bd2d-25d035e7297c",
   "metadata": {},
   "outputs": [],
   "source": [
    "# Payer_code FR has largest average time_in_hospital"
   ]
  },
  {
   "cell_type": "code",
   "execution_count": null,
   "id": "c84ec790-efbc-46cd-9b4d-90be7c770e2e",
   "metadata": {},
   "outputs": [],
   "source": [
    "# Question 31 - Bed utilization proxy: Which specialties contribute the most hospital days?"
   ]
  },
  {
   "cell_type": "code",
   "execution_count": 119,
   "id": "8a58dc80-86b1-4e6e-bdd3-bbda9430fea5",
   "metadata": {},
   "outputs": [
    {
     "data": {
      "text/plain": [
       "medical_specialty\n",
       "DCPTEAM                     6.166667\n",
       "Emergency/Trauma            4.359683\n",
       "Endocrinology               4.275000\n",
       "Dentistry                   4.250000\n",
       "AllergyandImmunology        3.857143\n",
       "Cardiology                  3.525598\n",
       "Anesthesiology              2.916667\n",
       "Cardiology-Pediatric        2.857143\n",
       "Anesthesiology-Pediatric    2.526316\n",
       "Dermatology                 2.000000\n",
       "Name: time_in_hospital, dtype: float64"
      ]
     },
     "execution_count": 119,
     "metadata": {},
     "output_type": "execute_result"
    }
   ],
   "source": [
    "df.groupby('medical_specialty')['time_in_hospital'].mean().head(10).sort_values(ascending = False)"
   ]
  },
  {
   "cell_type": "code",
   "execution_count": null,
   "id": "7b6b8831-de18-488d-a98f-2424b5d8edc4",
   "metadata": {},
   "outputs": [],
   "source": [
    "#-------------------------------------------THE END------------------------------"
   ]
  },
  {
   "cell_type": "code",
   "execution_count": null,
   "id": "9b5b8f12-7f02-49f1-a7be-b89b9da7e090",
   "metadata": {},
   "outputs": [],
   "source": []
  },
  {
   "cell_type": "code",
   "execution_count": null,
   "id": "10afc74f-2702-4ebf-a953-082b0f917e86",
   "metadata": {},
   "outputs": [],
   "source": []
  },
  {
   "cell_type": "code",
   "execution_count": null,
   "id": "6cf339c6-7927-4f03-ad7e-b62895181b6a",
   "metadata": {},
   "outputs": [],
   "source": []
  },
  {
   "cell_type": "code",
   "execution_count": null,
   "id": "9c32e053-b181-4f8a-bc51-aac97c3774ab",
   "metadata": {},
   "outputs": [],
   "source": []
  },
  {
   "cell_type": "code",
   "execution_count": null,
   "id": "20ebfbb0-0c88-4dc7-a87b-c5b2ad1e91d2",
   "metadata": {},
   "outputs": [],
   "source": []
  }
 ],
 "metadata": {
  "kernelspec": {
   "display_name": "Python [conda env:base] *",
   "language": "python",
   "name": "conda-base-py"
  },
  "language_info": {
   "codemirror_mode": {
    "name": "ipython",
    "version": 3
   },
   "file_extension": ".py",
   "mimetype": "text/x-python",
   "name": "python",
   "nbconvert_exporter": "python",
   "pygments_lexer": "ipython3",
   "version": "3.13.5"
  }
 },
 "nbformat": 4,
 "nbformat_minor": 5
}
